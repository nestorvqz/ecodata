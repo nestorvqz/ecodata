import matplotlib.pyplot as plt
import numpy as np
import pandas as pd
import matplotlib.dates as mdates
from datetime import datetime, timedelta

import seaborn as sns

